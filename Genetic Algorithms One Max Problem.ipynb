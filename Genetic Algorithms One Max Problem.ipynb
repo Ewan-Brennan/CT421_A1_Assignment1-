{
 "cells": [
  {
   "cell_type": "code",
   "execution_count": 2,
   "id": "bb651926",
   "metadata": {},
   "outputs": [],
   "source": [
    "import numpy as np\n",
    "import random\n",
    "from random import randint\n",
    "import statistics\n",
    "import matplotlib.pyplot as plt"
   ]
  },
  {
   "cell_type": "code",
   "execution_count": 3,
   "id": "fc5a09f7",
   "metadata": {},
   "outputs": [],
   "source": [
    "#Parameters\n",
    "\n",
    "#Size of population\n",
    "population_size = 100\n",
    "#String length\n",
    "length_of_string = 30\n",
    "#Chance of parent crossover occurring \n",
    "crossover_rate = 0.9\n",
    "#Chance of mutation occurring\n",
    "mutation_rate = 0.5\n",
    "#Total generations produced\n",
    "num_generations = 15\n",
    "#Array to store averages\n",
    "averages = []\n",
    "#Target value of a bit string in the population\n",
    "target_value = \"1\" * 30"
   ]
  },
  {
   "cell_type": "code",
   "execution_count": null,
   "id": "33c6eff2",
   "metadata": {},
   "outputs": [],
   "source": [
    "def genetic_algorithm(population):\n",
    "        #Loop through generations\"\n",
    "        for generations in range(num_generations):\n",
    "            parents = []\n",
    "            children = []\n",
    "  \n",
    "           #Calculate total fitness scores for the population\"\n",
    "           scores = [fitness(x) for x in population]\n",
    "    \n",
    "           averages.append(statistics.fmean(scores))\n",
    "    \n",
    "           #Print scores of current generation\"\n",
    "            best_index, best_score = scores.index(max(scores)), max(scores)\n",
    "            print(f'Generation {generations+1}')\n",
    "            print(f'Best item: {population[best_index]}')\n",
    "            print(f'Item score: {best_score}')\n",
    "            print(f'Generation average score: {averages[generations]}\\\\n')\n",
    "    \n",
    "            # Find parent chromosomes of next generation via selection\n",
    "            for i in range(population_size):\n",
    "            parents.append(tournament_selection(population, scores))\n",
    "  \n",
    "            # Pair up chromosome with the one right after it\n",
    "            for i in range(0, population_size, 2):\n",
    "               parent_1, parent_2 = parents[i], parents[i+1]\n",
    "   \n",
    "                # Perform crossover, mutate children and append to list\n",
    "                for child in one_point_crossover(parent_1, parent_2):\n",
    "                    child = mutate(child)\n",
    "                    children.append(child)\n",
    "    \n",
    "            # Replace current generation with children\n",
    "            population = children\n",
    "            print(len(averages))"
   ]
  },
  {
   "cell_type": "code",
   "execution_count": null,
   "id": "2c85dd00",
   "metadata": {},
   "outputs": [],
   "source": [
    "def main():\n",
    "    #Target of GA is a 30 bit string of 1s\n",
    "     print(f'Target string is 30 1s')\n",
    "       \n",
    "    population = []\n",
    "       for i in range(population_size):\n",
    "        chrom = []\n",
    "           for j in range(length_of_string):\n",
    "            chrom.append(random.choice(\"01\"))\n",
    "            population.append(chrom)\n",
    "           \n",
    "    population = [''.join(sublist) for sublist in population]\n",
    "       print(population)\n",
    "        \n",
    "    genetic_algorithm(population)\n",
    "       plot_averages(averages, num_generations)"
   ]
  },
  {
   "cell_type": "code",
   "execution_count": null,
   "id": "aec966c9",
   "metadata": {},
   "outputs": [],
   "source": [
    "main()"
   ]
  },
  {
   "cell_type": "code",
   "execution_count": 5,
   "id": "40f28c68",
   "metadata": {},
   "outputs": [],
   "source": [
    "def fitness(binary_string):\n",
    "    count = 0\n",
    "    \n",
    "    for bit in binary_string:\n",
    "        if bit == '1':\n",
    "            count += 1\n",
    "    \n",
    "        return count"
   ]
  },
  {
   "cell_type": "code",
   "execution_count": 9,
   "id": "edd359d0",
   "metadata": {},
   "outputs": [],
   "source": [
    "def mutate(bit_string):\n",
    "    \n",
    "    random_index = random.randint(0, 29)\n",
    "    bit_string = list(bit_string)\n",
    "    \n",
    "    if np.random.rand() < mutation_rate:\n",
    "    \n",
    "        if bit_string[random_index] == '0':\n",
    "            bit_string[random_index] = '1' \n",
    "                          \n",
    "        return ''.join(bit_string)"
   ]
  },
  {
   "cell_type": "code",
   "execution_count": 10,
   "id": "d9319a3f",
   "metadata": {},
   "outputs": [],
   "source": [
    "def one_point_crossover(parent1, parent2):\n",
    "    \n",
    "    crossover_point = random.randint(0, len(parent1))\n",
    "    offspring1 = parent1[:crossover_point] + parent2[:crossover_point:]\n",
    "    offspring2 = parent2[:crossover_point] + parent2[crossover_point:]\n",
    "    \n",
    "    return offspring1, offspring2"
   ]
  },
  {
   "cell_type": "code",
   "execution_count": 16,
   "id": "902ff806",
   "metadata": {},
   "outputs": [
    {
     "name": "stdout",
     "output_type": "stream",
     "text": [
      "Offspring 1: 11010101011011001001010101100011100110110101001111010001\n",
      "Offspring 2: 001110011011010100111101000101\n"
     ]
    }
   ],
   "source": [
    "parent1 = '110101010110110010010101011001'\n",
    "parent2 = '001110011011010100111101000101'\n",
    "\n",
    "offspring1, offspring2 = one_point_crossover(parent1, parent2)\n",
    "print(\"Offspring 1:\", offspring1)\n",
    "print(\"Offspring 2:\", offspring2)"
   ]
  },
  {
   "cell_type": "code",
   "execution_count": 21,
   "id": "35909899",
   "metadata": {},
   "outputs": [],
   "source": [
    "def tournament_selection(population, scores, rounds=5):\n",
    "    \n",
    "    #Pick a random index in population\n",
    "    best_individual = random.randint(0, population_size-1)\n",
    "\n",
    "    #Choose opposing individuals randomly\n",
    "    for individual in range(rounds+1):\n",
    "        individual_index = random.randint(0, population_size-1)\n",
    "        \n",
    "    #Find best score in tournament round\n",
    "    if scores[individual_index] > scores[best_individual]:\n",
    "        best_individual = individual\n",
    "        \n",
    "    return population[best_individual]"
   ]
  },
  {
   "cell_type": "code",
   "execution_count": 30,
   "id": "9018b0c8",
   "metadata": {},
   "outputs": [],
   "source": [
    "def plot_averages(averages, generations):\n",
    "    \n",
    "    plt.plot(range(1, generations+1), averages, marker='o')\n",
    "    plt.title(f'Average fitness over {generations}'\n",
    "              'generations (One Max)')\n",
    "    plt.xlabel('Generation')\n",
    "    plt.ylabel('Average fitness')\n",
    "    plt.grid(True)\n",
    "    plt.show()"
   ]
  }
 ],
 "metadata": {
  "kernelspec": {
   "display_name": "Python 3 (ipykernel)",
   "language": "python",
   "name": "python3"
  },
  "language_info": {
   "codemirror_mode": {
    "name": "ipython",
    "version": 3
   },
   "file_extension": ".py",
   "mimetype": "text/x-python",
   "name": "python",
   "nbconvert_exporter": "python",
   "pygments_lexer": "ipython3",
   "version": "3.11.4"
  }
 },
 "nbformat": 4,
 "nbformat_minor": 5
}
